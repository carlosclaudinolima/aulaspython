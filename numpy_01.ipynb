{
  "nbformat": 4,
  "nbformat_minor": 0,
  "metadata": {
    "colab": {
      "provenance": [],
      "authorship_tag": "ABX9TyPRs6E8SO6TtyfkyKM5kaCi",
      "include_colab_link": true
    },
    "kernelspec": {
      "name": "python3",
      "display_name": "Python 3"
    },
    "language_info": {
      "name": "python"
    }
  },
  "cells": [
    {
      "cell_type": "markdown",
      "metadata": {
        "id": "view-in-github",
        "colab_type": "text"
      },
      "source": [
        "<a href=\"https://colab.research.google.com/github/carlosclaudinolima/aulaspython/blob/main/numpy_01.ipynb\" target=\"_parent\"><img src=\"https://colab.research.google.com/assets/colab-badge.svg\" alt=\"Open In Colab\"/></a>"
      ]
    },
    {
      "cell_type": "markdown",
      "source": [
        "Importando a biblioteca numpy com o alias np"
      ],
      "metadata": {
        "id": "CKiu8M2UZhgb"
      }
    },
    {
      "cell_type": "code",
      "execution_count": 1,
      "metadata": {
        "id": "Q1PIj5QnpcRN"
      },
      "outputs": [],
      "source": [
        "import numpy as np"
      ]
    },
    {
      "cell_type": "markdown",
      "source": [
        "Definindo a URL dos dados"
      ],
      "metadata": {
        "id": "Jk_jvQMmZrSE"
      }
    },
    {
      "cell_type": "code",
      "source": [
        "url = 'https://raw.githubusercontent.com/alura-cursos/numpy/refs/heads/dados/apples_ts.csv'"
      ],
      "metadata": {
        "id": "HoXNAH7OqY6d"
      },
      "execution_count": 9,
      "outputs": []
    },
    {
      "cell_type": "markdown",
      "source": [
        "Carregando dados"
      ],
      "metadata": {
        "id": "7oZPJiVjZxgk"
      }
    },
    {
      "cell_type": "code",
      "source": [
        "dados = np.loadtxt(url,  delimiter=',',usecols=np.arange(1, 88, 1))"
      ],
      "metadata": {
        "id": "lLhAtV1UwmXp"
      },
      "execution_count": 10,
      "outputs": []
    },
    {
      "cell_type": "markdown",
      "source": [
        "Verificando o numero de dimensões dos dados"
      ],
      "metadata": {
        "id": "dxuo9SUPZ1o9"
      }
    },
    {
      "cell_type": "code",
      "source": [
        "dados.ndim"
      ],
      "metadata": {
        "colab": {
          "base_uri": "https://localhost:8080/"
        },
        "id": "mRNRuetBqeFC",
        "outputId": "31b80fb1-d002-4229-e987-579678e2a4e5"
      },
      "execution_count": 11,
      "outputs": [
        {
          "output_type": "execute_result",
          "data": {
            "text/plain": [
              "2"
            ]
          },
          "metadata": {},
          "execution_count": 11
        }
      ]
    },
    {
      "cell_type": "markdown",
      "source": [
        "Verificando a quantidade de dados"
      ],
      "metadata": {
        "id": "Veq-HcElZ_g0"
      }
    },
    {
      "cell_type": "code",
      "source": [
        "dados.size"
      ],
      "metadata": {
        "colab": {
          "base_uri": "https://localhost:8080/"
        },
        "id": "vLr-SuYe6svE",
        "outputId": "473b746f-8ce4-4e21-c5e0-5ee75ef9636c"
      },
      "execution_count": 12,
      "outputs": [
        {
          "output_type": "execute_result",
          "data": {
            "text/plain": [
              "522"
            ]
          },
          "metadata": {},
          "execution_count": 12
        }
      ]
    },
    {
      "cell_type": "markdown",
      "source": [
        "Verificando o forma dos dados"
      ],
      "metadata": {
        "id": "5pBUAcdGaDXl"
      }
    },
    {
      "cell_type": "code",
      "source": [
        "dados.shape"
      ],
      "metadata": {
        "colab": {
          "base_uri": "https://localhost:8080/"
        },
        "id": "hTXN7b7961ne",
        "outputId": "4b702317-06c8-46d9-d4d3-539bc7379184"
      },
      "execution_count": 13,
      "outputs": [
        {
          "output_type": "execute_result",
          "data": {
            "text/plain": [
              "(6, 87)"
            ]
          },
          "metadata": {},
          "execution_count": 13
        }
      ]
    },
    {
      "cell_type": "markdown",
      "source": [
        "Fazendo a transposição da matriz de dados"
      ],
      "metadata": {
        "id": "TL6tWfB5aUnW"
      }
    },
    {
      "cell_type": "code",
      "source": [
        "dados_transpostos = dados.T"
      ],
      "metadata": {
        "id": "_wA45hX965O_"
      },
      "execution_count": 44,
      "outputs": []
    },
    {
      "cell_type": "markdown",
      "source": [
        "Obtendo as datas a partir dos dados lidos"
      ],
      "metadata": {
        "id": "MIuaIqGNa8BA"
      }
    },
    {
      "cell_type": "code",
      "source": [
        "datas = dados_transpostos[:, 0]"
      ],
      "metadata": {
        "id": "9kdJEhCI7T-y"
      },
      "execution_count": 43,
      "outputs": []
    },
    {
      "cell_type": "markdown",
      "source": [
        "Obtendo os valores"
      ],
      "metadata": {
        "id": "1Evbp3-ca1QQ"
      }
    },
    {
      "cell_type": "code",
      "source": [
        "valores = dados_transpostos[:, 1:6]"
      ],
      "metadata": {
        "id": "91Y27Y7d_G2w"
      },
      "execution_count": 24,
      "outputs": []
    },
    {
      "cell_type": "markdown",
      "source": [
        "Importando a biblioteca matploitlib"
      ],
      "metadata": {
        "id": "f-3TQV1GbDEq"
      }
    },
    {
      "cell_type": "code",
      "source": [
        "import matplotlib.pyplot as plt"
      ],
      "metadata": {
        "id": "LJky-zjk_Gup"
      },
      "execution_count": 25,
      "outputs": []
    },
    {
      "cell_type": "code",
      "source": [
        "plt.plot(np.arange(1, 88, 1), valores[:,0])\n",
        "np.arange(1, 88, 1)"
      ],
      "metadata": {
        "colab": {
          "base_uri": "https://localhost:8080/",
          "height": 534
        },
        "id": "043SfeX4_DfS",
        "outputId": "aefd8ec5-addb-4bd4-a1e4-fd2438803372"
      },
      "execution_count": 35,
      "outputs": [
        {
          "output_type": "execute_result",
          "data": {
            "text/plain": [
              "array([ 1,  2,  3,  4,  5,  6,  7,  8,  9, 10, 11, 12, 13, 14, 15, 16, 17,\n",
              "       18, 19, 20, 21, 22, 23, 24, 25, 26, 27, 28, 29, 30, 31, 32, 33, 34,\n",
              "       35, 36, 37, 38, 39, 40, 41, 42, 43, 44, 45, 46, 47, 48, 49, 50, 51,\n",
              "       52, 53, 54, 55, 56, 57, 58, 59, 60, 61, 62, 63, 64, 65, 66, 67, 68,\n",
              "       69, 70, 71, 72, 73, 74, 75, 76, 77, 78, 79, 80, 81, 82, 83, 84, 85,\n",
              "       86, 87])"
            ]
          },
          "metadata": {},
          "execution_count": 35
        },
        {
          "output_type": "display_data",
          "data": {
            "text/plain": [
              "<Figure size 640x480 with 1 Axes>"
            ],
            "image/png": "[encoded data removed]"
          },
          "metadata": {}
        }
      ]
    },
    {
      "cell_type": "code",
      "source": [
        "Moscow = valores[:,0]\n",
        "Kaliningrad = valores[:,1]\n",
        "Petersburg = valores[:,2]\n",
        "Krasnodar = valores[:,3]\n",
        "Ekaterinburg = valores[:,4]\n"
      ],
      "metadata": {
        "id": "BTjM-Fk5_EF3"
      },
      "execution_count": 42,
      "outputs": []
    },
    {
      "cell_type": "code",
      "source": [],
      "metadata": {
        "id": "fsWny-rS_ErH"
      },
      "execution_count": null,
      "outputs": []
    }
  ]
}